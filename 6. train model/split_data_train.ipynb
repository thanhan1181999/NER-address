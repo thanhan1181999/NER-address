{
  "nbformat": 4,
  "nbformat_minor": 0,
  "metadata": {
    "colab": {
      "name": "split_data_train.ipynb",
      "provenance": []
    },
    "kernelspec": {
      "name": "python3",
      "display_name": "Python 3"
    },
    "language_info": {
      "name": "python"
    }
  },
  "cells": [
    {
      "cell_type": "code",
      "metadata": {
        "colab": {
          "base_uri": "https://localhost:8080/"
        },
        "id": "OUsdVvapTNSj",
        "outputId": "6a01bbb3-7b28-4ab2-b46a-4fa536bbbcff"
      },
      "source": [
        "from google.colab import drive\n",
        "drive.mount('/content/drive')"
      ],
      "execution_count": null,
      "outputs": [
        {
          "output_type": "stream",
          "text": [
            "Mounted at /content/drive\n"
          ],
          "name": "stdout"
        }
      ]
    },
    {
      "cell_type": "code",
      "metadata": {
        "id": "UloRGpavTDQk"
      },
      "source": [
        "import numpy as np"
      ],
      "execution_count": null,
      "outputs": []
    },
    {
      "cell_type": "code",
      "metadata": {
        "colab": {
          "base_uri": "https://localhost:8080/"
        },
        "id": "EDjz8S4VTa8s",
        "outputId": "4e286af9-cfee-410f-e58a-bd885c43f693"
      },
      "source": [
        "char_encode = np.loadtxt('/content/drive/MyDrive/fast_text/char_encode.txt')\n",
        "print(char_encode.shape)\n",
        "char_encode = char_encode.reshape(int(char_encode.shape[0]/42), 42, char_encode.shape[1])\n",
        "print(char_encode.shape)\n",
        "\n",
        "tag = np.loadtxt('/content/drive/MyDrive/fast_text/tag_embedd.txt')\n",
        "tag = tag.reshape(int(tag.shape[0]/42), 42, tag.shape[1])\n",
        "print(tag.shape)\n",
        "\n",
        "word = np.loadtxt('/content/drive/MyDrive/fast_text/word_embedd.txt')\n",
        "word = word.reshape(int(word.shape[0]/42), 42, word.shape[1])\n",
        "print(word.shape)"
      ],
      "execution_count": null,
      "outputs": [
        {
          "output_type": "stream",
          "text": [
            "(935130, 32)\n",
            "(22265, 42, 32)\n",
            "(22265, 42, 14)\n",
            "(22265, 42, 300)\n"
          ],
          "name": "stdout"
        }
      ]
    },
    {
      "cell_type": "code",
      "metadata": {
        "id": "nhyLeVilCARV"
      },
      "source": [
        "from sklearn.model_selection import train_test_split"
      ],
      "execution_count": null,
      "outputs": []
    },
    {
      "cell_type": "code",
      "metadata": {
        "id": "ouI1a6kwB93H"
      },
      "source": [
        "character_encode_train, character_encode_test, word_train, word_test, tag_train, tag_test = train_test_split(char_encode, word, tag, test_size=0.2)"
      ],
      "execution_count": null,
      "outputs": []
    },
    {
      "cell_type": "code",
      "metadata": {
        "colab": {
          "base_uri": "https://localhost:8080/"
        },
        "id": "f4YcdNm8COsE",
        "outputId": "8e05d035-abce-4fd2-8315-3b722baab2f0"
      },
      "source": [
        "print(character_encode_train.shape)\n",
        "print(word_train.shape)\n",
        "print(tag_train.shape)\n",
        "print(character_encode_test.shape)\n",
        "print(word_test.shape)\n",
        "print(tag_test.shape)"
      ],
      "execution_count": null,
      "outputs": [
        {
          "output_type": "stream",
          "text": [
            "(17812, 42, 32)\n",
            "(17812, 42, 300)\n",
            "(17812, 42, 14)\n",
            "(4453, 42, 32)\n",
            "(4453, 42, 300)\n",
            "(4453, 42, 14)\n"
          ],
          "name": "stdout"
        }
      ]
    },
    {
      "cell_type": "code",
      "metadata": {
        "colab": {
          "base_uri": "https://localhost:8080/"
        },
        "id": "MSHefP7YuGWN",
        "outputId": "06acb130-03fd-4850-e94c-8a985fd43b6f"
      },
      "source": [
        "import math\n",
        "max_sen = 3500 # số câu nhiều nhất có thể load cho mỗi lần train (vì có 12GB RAM)\n",
        "\n",
        "for index in range(math.ceil(word_train.shape[0]/max_sen)):\n",
        "  begin = index*max_sen\n",
        "  end = min(index*max_sen+max_sen,word_train.shape[0])\n",
        "\n",
        "  X = character_encode_train[begin:end]\n",
        "  out_file = \"/content/drive/MyDrive/fast_text/char_encode/char_encode_train_{}_{}.txt\".format(begin,end-1)\n",
        "  X = X.reshape(X.shape[0]*X.shape[1],X.shape[2])\n",
        "  X = X.astype(np.int64)\n",
        "  fileout = open(out_file, 'a+', encoding='utf8')\n",
        "  np.savetxt(fileout, X)\n",
        "  fileout.close()\n",
        "\n",
        "  X = word_train[begin:end]\n",
        "  print(X.shape)\n",
        "  out_file = \"/content/drive/MyDrive/fast_text/word_embedd/word_train_{}_{}.txt\".format(begin,end-1)\n",
        "  X = X.reshape(X.shape[0]*X.shape[1],X.shape[2])\n",
        "  # X = X.astype(np.int64)\n",
        "  fileout = open(out_file, 'a+', encoding='utf8')  \n",
        "  np.savetxt(fileout, X)\n",
        "  fileout.close()\n",
        "\n",
        "  X = tag_train[begin:end]\n",
        "  out_file = \"/content/drive/MyDrive/fast_text/tag_embedd/tag_train_{}_{}.txt\".format(begin,end-1)\n",
        "  X = X.reshape(X.shape[0]*X.shape[1],X.shape[2])\n",
        "  X = X.astype(np.int64)\n",
        "  fileout = open(out_file, 'a+', encoding='utf8')\n",
        "  np.savetxt(fileout, X)\n",
        "  fileout.close()\n"
      ],
      "execution_count": null,
      "outputs": [
        {
          "output_type": "stream",
          "text": [
            "(3500, 42, 300)\n",
            "(3500, 42, 300)\n",
            "(3500, 42, 300)\n",
            "(3500, 42, 300)\n",
            "(3500, 42, 300)\n",
            "(312, 42, 300)\n"
          ],
          "name": "stdout"
        }
      ]
    },
    {
      "cell_type": "code",
      "metadata": {
        "id": "JeIZNM47FSiJ",
        "colab": {
          "base_uri": "https://localhost:8080/"
        },
        "outputId": "ee8f1944-231b-419d-f693-733fa49f4d3b"
      },
      "source": [
        "for index in range(math.ceil(word_test.shape[0]/max_sen)):\n",
        "  begin = index*max_sen\n",
        "  end = min(index*max_sen+max_sen,word_test.shape[0])\n",
        "\n",
        "  X = character_encode_test[begin:end]\n",
        "  out_file = \"/content/drive/MyDrive/fast_text/char_encode/char_encode_test_{}_{}.txt\".format(begin,end-1)\n",
        "  X = X.reshape(X.shape[0]*X.shape[1],X.shape[2])\n",
        "  X = X.astype(np.int64)\n",
        "  fileout = open(out_file, 'a+', encoding='utf8')\n",
        "  np.savetxt(fileout, X)\n",
        "  fileout.close()\n",
        "\n",
        "  X = word_test[begin:end]\n",
        "  print(X.shape)\n",
        "  out_file = \"/content/drive/MyDrive/fast_text/word_embedd/word_test_{}_{}.txt\".format(begin,end-1)\n",
        "  X = X.reshape(X.shape[0]*X.shape[1],X.shape[2])\n",
        "  # X = X.astype(np.int64)\n",
        "  fileout = open(out_file, 'a+', encoding='utf8')\n",
        "  np.savetxt(fileout, X)\n",
        "  fileout.close()\n",
        "\n",
        "  X = tag_test[begin:end]\n",
        "  out_file = \"/content/drive/MyDrive/fast_text/tag_embedd/tag_test_{}_{}.txt\".format(begin,end-1)\n",
        "  X = X.reshape(X.shape[0]*X.shape[1],X.shape[2])\n",
        "  X = X.astype(np.int64)\n",
        "  fileout = open(out_file, 'a+', encoding='utf8')\n",
        "  np.savetxt(fileout, X)\n",
        "  fileout.close()\n"
      ],
      "execution_count": null,
      "outputs": [
        {
          "output_type": "stream",
          "text": [
            "(3500, 42, 300)\n",
            "(953, 42, 300)\n"
          ],
          "name": "stdout"
        }
      ]
    }
  ]
}