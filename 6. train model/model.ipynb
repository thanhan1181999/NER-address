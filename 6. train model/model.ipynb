{
  "nbformat": 4,
  "nbformat_minor": 0,
  "metadata": {
    "colab": {
      "name": "model.ipynb",
      "provenance": [],
      "collapsed_sections": []
    },
    "kernelspec": {
      "display_name": "Python 3",
      "name": "python3"
    }
  },
  "cells": [
    {
      "cell_type": "code",
      "metadata": {
        "colab": {
          "base_uri": "https://localhost:8080/"
        },
        "id": "rOXRbxh4pDe3",
        "outputId": "acb917a8-0013-40c1-f457-334c12dd3b12"
      },
      "source": [
        "from google.colab import drive\n",
        "drive.mount('/content/drive')"
      ],
      "execution_count": null,
      "outputs": [
        {
          "output_type": "stream",
          "text": [
            "Drive already mounted at /content/drive; to attempt to forcibly remount, call drive.mount(\"/content/drive\", force_remount=True).\n"
          ],
          "name": "stdout"
        }
      ]
    },
    {
      "cell_type": "code",
      "metadata": {
        "colab": {
          "base_uri": "https://localhost:8080/"
        },
        "id": "U0nGi4pspbJr",
        "outputId": "71e71261-24e3-4225-e15a-c1b8fba0fc36"
      },
      "source": [
        "!pip install tensorflow==1.15\n",
        "!pip install keras==2.2.5\n",
        "!pip install git+https://www.github.com/keras-team/keras-contrib.git"
      ],
      "execution_count": null,
      "outputs": [
        {
          "output_type": "stream",
          "text": [
            "Requirement already satisfied: tensorflow==1.15 in /usr/local/lib/python3.7/dist-packages (1.15.0)\n",
            "Requirement already satisfied: google-pasta>=0.1.6 in /usr/local/lib/python3.7/dist-packages (from tensorflow==1.15) (0.2.0)\n",
            "Requirement already satisfied: numpy<2.0,>=1.16.0 in /usr/local/lib/python3.7/dist-packages (from tensorflow==1.15) (1.19.5)\n",
            "Requirement already satisfied: wrapt>=1.11.1 in /usr/local/lib/python3.7/dist-packages (from tensorflow==1.15) (1.12.1)\n",
            "Requirement already satisfied: keras-preprocessing>=1.0.5 in /usr/local/lib/python3.7/dist-packages (from tensorflow==1.15) (1.1.2)\n",
            "Requirement already satisfied: tensorboard<1.16.0,>=1.15.0 in /usr/local/lib/python3.7/dist-packages (from tensorflow==1.15) (1.15.0)\n",
            "Requirement already satisfied: keras-applications>=1.0.8 in /usr/local/lib/python3.7/dist-packages (from tensorflow==1.15) (1.0.8)\n",
            "Requirement already satisfied: six>=1.10.0 in /usr/local/lib/python3.7/dist-packages (from tensorflow==1.15) (1.15.0)\n",
            "Requirement already satisfied: protobuf>=3.6.1 in /usr/local/lib/python3.7/dist-packages (from tensorflow==1.15) (3.12.4)\n",
            "Requirement already satisfied: astor>=0.6.0 in /usr/local/lib/python3.7/dist-packages (from tensorflow==1.15) (0.8.1)\n",
            "Requirement already satisfied: absl-py>=0.7.0 in /usr/local/lib/python3.7/dist-packages (from tensorflow==1.15) (0.12.0)\n",
            "Requirement already satisfied: gast==0.2.2 in /usr/local/lib/python3.7/dist-packages (from tensorflow==1.15) (0.2.2)\n",
            "Requirement already satisfied: grpcio>=1.8.6 in /usr/local/lib/python3.7/dist-packages (from tensorflow==1.15) (1.32.0)\n",
            "Requirement already satisfied: wheel>=0.26 in /usr/local/lib/python3.7/dist-packages (from tensorflow==1.15) (0.36.2)\n",
            "Requirement already satisfied: tensorflow-estimator==1.15.1 in /usr/local/lib/python3.7/dist-packages (from tensorflow==1.15) (1.15.1)\n",
            "Requirement already satisfied: opt-einsum>=2.3.2 in /usr/local/lib/python3.7/dist-packages (from tensorflow==1.15) (3.3.0)\n",
            "Requirement already satisfied: termcolor>=1.1.0 in /usr/local/lib/python3.7/dist-packages (from tensorflow==1.15) (1.1.0)\n",
            "Requirement already satisfied: setuptools>=41.0.0 in /usr/local/lib/python3.7/dist-packages (from tensorboard<1.16.0,>=1.15.0->tensorflow==1.15) (56.1.0)\n",
            "Requirement already satisfied: markdown>=2.6.8 in /usr/local/lib/python3.7/dist-packages (from tensorboard<1.16.0,>=1.15.0->tensorflow==1.15) (3.3.4)\n",
            "Requirement already satisfied: werkzeug>=0.11.15 in /usr/local/lib/python3.7/dist-packages (from tensorboard<1.16.0,>=1.15.0->tensorflow==1.15) (1.0.1)\n",
            "Requirement already satisfied: h5py in /usr/local/lib/python3.7/dist-packages (from keras-applications>=1.0.8->tensorflow==1.15) (2.10.0)\n",
            "Requirement already satisfied: importlib-metadata; python_version < \"3.8\" in /usr/local/lib/python3.7/dist-packages (from markdown>=2.6.8->tensorboard<1.16.0,>=1.15.0->tensorflow==1.15) (4.0.1)\n",
            "Requirement already satisfied: zipp>=0.5 in /usr/local/lib/python3.7/dist-packages (from importlib-metadata; python_version < \"3.8\"->markdown>=2.6.8->tensorboard<1.16.0,>=1.15.0->tensorflow==1.15) (3.4.1)\n",
            "Requirement already satisfied: typing-extensions>=3.6.4; python_version < \"3.8\" in /usr/local/lib/python3.7/dist-packages (from importlib-metadata; python_version < \"3.8\"->markdown>=2.6.8->tensorboard<1.16.0,>=1.15.0->tensorflow==1.15) (3.7.4.3)\n",
            "Requirement already satisfied: keras==2.2.5 in /usr/local/lib/python3.7/dist-packages (2.2.5)\n",
            "Requirement already satisfied: keras-preprocessing>=1.1.0 in /usr/local/lib/python3.7/dist-packages (from keras==2.2.5) (1.1.2)\n",
            "Requirement already satisfied: scipy>=0.14 in /usr/local/lib/python3.7/dist-packages (from keras==2.2.5) (1.4.1)\n",
            "Requirement already satisfied: keras-applications>=1.0.8 in /usr/local/lib/python3.7/dist-packages (from keras==2.2.5) (1.0.8)\n",
            "Requirement already satisfied: numpy>=1.9.1 in /usr/local/lib/python3.7/dist-packages (from keras==2.2.5) (1.19.5)\n",
            "Requirement already satisfied: pyyaml in /usr/local/lib/python3.7/dist-packages (from keras==2.2.5) (3.13)\n",
            "Requirement already satisfied: six>=1.9.0 in /usr/local/lib/python3.7/dist-packages (from keras==2.2.5) (1.15.0)\n",
            "Requirement already satisfied: h5py in /usr/local/lib/python3.7/dist-packages (from keras==2.2.5) (2.10.0)\n",
            "Collecting git+https://www.github.com/keras-team/keras-contrib.git\n",
            "  Cloning https://www.github.com/keras-team/keras-contrib.git to /tmp/pip-req-build-604jxhbr\n",
            "  Running command git clone -q https://www.github.com/keras-team/keras-contrib.git /tmp/pip-req-build-604jxhbr\n",
            "Requirement already satisfied (use --upgrade to upgrade): keras-contrib==2.0.8 from git+https://www.github.com/keras-team/keras-contrib.git in /usr/local/lib/python3.7/dist-packages\n",
            "Requirement already satisfied: keras in /usr/local/lib/python3.7/dist-packages (from keras-contrib==2.0.8) (2.2.5)\n",
            "Requirement already satisfied: scipy>=0.14 in /usr/local/lib/python3.7/dist-packages (from keras->keras-contrib==2.0.8) (1.4.1)\n",
            "Requirement already satisfied: keras-preprocessing>=1.1.0 in /usr/local/lib/python3.7/dist-packages (from keras->keras-contrib==2.0.8) (1.1.2)\n",
            "Requirement already satisfied: h5py in /usr/local/lib/python3.7/dist-packages (from keras->keras-contrib==2.0.8) (2.10.0)\n",
            "Requirement already satisfied: pyyaml in /usr/local/lib/python3.7/dist-packages (from keras->keras-contrib==2.0.8) (3.13)\n",
            "Requirement already satisfied: keras-applications>=1.0.8 in /usr/local/lib/python3.7/dist-packages (from keras->keras-contrib==2.0.8) (1.0.8)\n",
            "Requirement already satisfied: six>=1.9.0 in /usr/local/lib/python3.7/dist-packages (from keras->keras-contrib==2.0.8) (1.15.0)\n",
            "Requirement already satisfied: numpy>=1.9.1 in /usr/local/lib/python3.7/dist-packages (from keras->keras-contrib==2.0.8) (1.19.5)\n",
            "Building wheels for collected packages: keras-contrib\n",
            "  Building wheel for keras-contrib (setup.py) ... \u001b[?25l\u001b[?25hdone\n",
            "  Created wheel for keras-contrib: filename=keras_contrib-2.0.8-cp37-none-any.whl size=101065 sha256=0a51f7ad2bc1f345cf45ae57719291f24dcd09ccbf9124b28c45ea630e70179d\n",
            "  Stored in directory: /tmp/pip-ephem-wheel-cache-qgge54qb/wheels/11/27/c8/4ed56de7b55f4f61244e2dc6ef3cdbaff2692527a2ce6502ba\n",
            "Successfully built keras-contrib\n"
          ],
          "name": "stdout"
        }
      ]
    },
    {
      "cell_type": "code",
      "metadata": {
        "id": "m9-dIEempjkE"
      },
      "source": [
        "import numpy as np\n",
        "# begin = 0\n",
        "# end = 3499\n",
        "# begin = 3500\n",
        "# end = 6999\n",
        "# begin = 7000\n",
        "# end = 10499\n",
        "# begin = 10500\n",
        "# end = 13999\n",
        "# begin = 14000\n",
        "# end = 17499\n",
        "begin = 17500\n",
        "end = 17811\n"
      ],
      "execution_count": null,
      "outputs": []
    },
    {
      "cell_type": "code",
      "metadata": {
        "colab": {
          "base_uri": "https://localhost:8080/"
        },
        "id": "oyew_cs9I3JK",
        "outputId": "8aecc82a-af5e-412e-940b-65f4ef224e99"
      },
      "source": [
        "char_encode = np.loadtxt('/content/drive/MyDrive/fast_text/char_encode/char_encode_train_{}_{}.txt'.format(begin,end))\n",
        "print(char_encode.shape)\n",
        "char_encode = char_encode.reshape(int(char_encode.shape[0]/42), 42, char_encode.shape[1])\n",
        "print(char_encode.shape)"
      ],
      "execution_count": null,
      "outputs": [
        {
          "output_type": "stream",
          "text": [
            "(13104, 32)\n",
            "(312, 42, 32)\n"
          ],
          "name": "stdout"
        }
      ]
    },
    {
      "cell_type": "code",
      "metadata": {
        "colab": {
          "base_uri": "https://localhost:8080/"
        },
        "id": "roi007kopkVm",
        "outputId": "6637a7e8-96ac-412f-c472-fdc48f8dc52e"
      },
      "source": [
        "tag = np.loadtxt('/content/drive/MyDrive/fast_text/tag_embedd/tag_train_{}_{}.txt'.format(begin,end))\n",
        "tag = tag.reshape(int(tag.shape[0]/42), 42, tag.shape[1])\n",
        "print(tag.shape)"
      ],
      "execution_count": null,
      "outputs": [
        {
          "output_type": "stream",
          "text": [
            "(312, 42, 14)\n"
          ],
          "name": "stdout"
        }
      ]
    },
    {
      "cell_type": "code",
      "metadata": {
        "colab": {
          "base_uri": "https://localhost:8080/"
        },
        "id": "1NPZBLhNJHpp",
        "outputId": "047a8ff7-a40d-41e4-fe43-44575332d614"
      },
      "source": [
        "word = np.loadtxt('/content/drive/MyDrive/fast_text/word_embedd/word_train_{}_{}.txt'.format(begin,end))\n",
        "word = word.reshape(int(word.shape[0]/42), 42, word.shape[1])\n",
        "print(word.shape)"
      ],
      "execution_count": null,
      "outputs": [
        {
          "output_type": "stream",
          "text": [
            "(312, 42, 300)\n"
          ],
          "name": "stdout"
        }
      ]
    },
    {
      "cell_type": "code",
      "metadata": {
        "colab": {
          "base_uri": "https://localhost:8080/"
        },
        "id": "KHEAjpSr8gEt",
        "outputId": "4b52dd97-19a8-48d0-d780-c883f5c58de8"
      },
      "source": [
        "# chuyển từ char encode sang char embedding\n",
        "LEN_OF_VOCAB = 137\n",
        "shape = char_encode.shape\n",
        "char_embedd = np.zeros([shape[0],shape[1],shape[2],LEN_OF_VOCAB])\n",
        "for i in range(shape[0]):\n",
        "  for j in range(shape[1]):\n",
        "    for k in range(shape[2]):\n",
        "      char_int = char_encode[i,j,k]\n",
        "      char_int = char_int.astype(np.int64)\n",
        "      onehot = np.zeros(LEN_OF_VOCAB)\n",
        "      onehot[char_int] = 1\n",
        "      char_embedd[i,j,k,:] = onehot\n",
        "\n",
        "print(char_embedd.shape)"
      ],
      "execution_count": null,
      "outputs": [
        {
          "output_type": "stream",
          "text": [
            "(312, 42, 32, 137)\n"
          ],
          "name": "stdout"
        }
      ]
    },
    {
      "cell_type": "code",
      "metadata": {
        "colab": {
          "base_uri": "https://localhost:8080/"
        },
        "id": "R3Jm6JlxptIA",
        "outputId": "78303666-1984-46c8-a7d9-6bcafd261c67"
      },
      "source": [
        "from keras.models import Sequential, Model, Input\n",
        "from keras.layers import LSTM, Dense, TimeDistributed, Activation, Bidirectional, Masking, Embedding, Dropout, Flatten, concatenate, Conv1D, MaxPool1D, Lambda, Softmax\n",
        "from keras import backend as K\n",
        "from keras_contrib.layers import CRF\n",
        "from keras.utils import plot_model\n",
        "import tensorflow as tf\n",
        "from sklearn.model_selection import train_test_split\n",
        "from keras_contrib.losses import  crf_loss\n",
        "from keras_contrib.metrics import crf_accuracy"
      ],
      "execution_count": null,
      "outputs": [
        {
          "output_type": "stream",
          "text": [
            "Using TensorFlow backend.\n"
          ],
          "name": "stderr"
        }
      ]
    },
    {
      "cell_type": "code",
      "metadata": {
        "colab": {
          "base_uri": "https://localhost:8080/"
        },
        "id": "Dg4hOmaiqACP",
        "outputId": "b7accb40-3220-4517-f610-3519f8cbadf6"
      },
      "source": [
        "num_word = 42\n",
        "num_char = 32\n",
        "num_char_of_a_sen = num_word * num_char\n",
        "char_embedding_dim = 137\n",
        "batch_size = 64\n",
        "output_lenght = 14\n",
        "#===========================================================================================\n",
        "char_input  = Input(shape=(num_word, num_char, char_embedding_dim), name=\"char_input\")\n",
        "char        = TimeDistributed(  Conv1D(filters = 8, kernel_size = 3, padding='same') ) (char_input)\n",
        "char        = TimeDistributed(  Conv1D(filters = 8, kernel_size = 3, padding='same') ) (char)\n",
        "char        = TimeDistributed(  MaxPool1D(pool_size = 2)  )  (char)\n",
        "char        = TimeDistributed(  Conv1D(filters = 16, kernel_size = 3, padding='same') ) (char)\n",
        "char        = TimeDistributed(  Conv1D(filters = 16, kernel_size = 3, padding='same') ) (char)\n",
        "char        = TimeDistributed(  MaxPool1D(pool_size = 2)  )  (char)\n",
        "char_out    = TimeDistributed(  Flatten()   )   (char)\n",
        "#============================================================================================\n",
        "word_input  = Input(shape=(num_word, 300), name=\"word_input\")\n",
        "word_out    = word_input\n",
        "#============================================================================================\n",
        "concatenated = concatenate([char_out, word_out])\n",
        "# main BiLSTM model==========================================================================\n",
        "out     = Bidirectional(LSTM(64, return_sequences=True, dropout=0.2, recurrent_dropout=0.2))(concatenated)\n",
        "out     = TimeDistributed(Dense(output_lenght))(out)\n",
        "output  = Activation('softmax')(out)\n",
        "# crf = CRF(14, name=\"output\")\n",
        "# output = crf(out)\n",
        "#===========================================================================================\n",
        "m = Model(inputs=[char_input, word_input], outputs=output)\n",
        "plot_model(m, \"/content/drive/MyDrive/model/img/model_.png\", show_shapes=True)\n",
        "m.compile(optimizer='adam', loss='categorical_crossentropy', metrics=['accuracy'])\n",
        "# m.compile(optimizer='adam', loss=crf.loss_function, metrics=[crf.accuracy, f1_m])\n",
        "m.summary()"
      ],
      "execution_count": null,
      "outputs": [
        {
          "output_type": "stream",
          "text": [
            "WARNING:tensorflow:From /usr/local/lib/python3.7/dist-packages/keras/backend/tensorflow_backend.py:541: The name tf.placeholder is deprecated. Please use tf.compat.v1.placeholder instead.\n",
            "\n",
            "WARNING:tensorflow:From /usr/local/lib/python3.7/dist-packages/keras/backend/tensorflow_backend.py:66: The name tf.get_default_graph is deprecated. Please use tf.compat.v1.get_default_graph instead.\n",
            "\n",
            "WARNING:tensorflow:From /usr/local/lib/python3.7/dist-packages/keras/backend/tensorflow_backend.py:4432: The name tf.random_uniform is deprecated. Please use tf.random.uniform instead.\n",
            "\n",
            "WARNING:tensorflow:From /usr/local/lib/python3.7/dist-packages/keras/backend/tensorflow_backend.py:4267: The name tf.nn.max_pool is deprecated. Please use tf.nn.max_pool2d instead.\n",
            "\n",
            "WARNING:tensorflow:From /usr/local/lib/python3.7/dist-packages/keras/backend/tensorflow_backend.py:148: The name tf.placeholder_with_default is deprecated. Please use tf.compat.v1.placeholder_with_default instead.\n",
            "\n",
            "WARNING:tensorflow:From /usr/local/lib/python3.7/dist-packages/keras/backend/tensorflow_backend.py:3733: calling dropout (from tensorflow.python.ops.nn_ops) with keep_prob is deprecated and will be removed in a future version.\n",
            "Instructions for updating:\n",
            "Please use `rate` instead of `keep_prob`. Rate should be set to `rate = 1 - keep_prob`.\n",
            "WARNING:tensorflow:From /usr/local/lib/python3.7/dist-packages/keras/optimizers.py:793: The name tf.train.Optimizer is deprecated. Please use tf.compat.v1.train.Optimizer instead.\n",
            "\n",
            "WARNING:tensorflow:From /usr/local/lib/python3.7/dist-packages/keras/backend/tensorflow_backend.py:3576: The name tf.log is deprecated. Please use tf.math.log instead.\n",
            "\n",
            "Model: \"model_1\"\n",
            "__________________________________________________________________________________________________\n",
            "Layer (type)                    Output Shape         Param #     Connected to                     \n",
            "==================================================================================================\n",
            "char_input (InputLayer)         (None, 42, 32, 137)  0                                            \n",
            "__________________________________________________________________________________________________\n",
            "time_distributed_1 (TimeDistrib (None, 42, 32, 8)    3296        char_input[0][0]                 \n",
            "__________________________________________________________________________________________________\n",
            "time_distributed_2 (TimeDistrib (None, 42, 32, 8)    200         time_distributed_1[0][0]         \n",
            "__________________________________________________________________________________________________\n",
            "time_distributed_3 (TimeDistrib (None, 42, 16, 8)    0           time_distributed_2[0][0]         \n",
            "__________________________________________________________________________________________________\n",
            "time_distributed_4 (TimeDistrib (None, 42, 16, 16)   400         time_distributed_3[0][0]         \n",
            "__________________________________________________________________________________________________\n",
            "time_distributed_5 (TimeDistrib (None, 42, 16, 16)   784         time_distributed_4[0][0]         \n",
            "__________________________________________________________________________________________________\n",
            "time_distributed_6 (TimeDistrib (None, 42, 8, 16)    0           time_distributed_5[0][0]         \n",
            "__________________________________________________________________________________________________\n",
            "time_distributed_7 (TimeDistrib (None, 42, 128)      0           time_distributed_6[0][0]         \n",
            "__________________________________________________________________________________________________\n",
            "word_input (InputLayer)         (None, 42, 300)      0                                            \n",
            "__________________________________________________________________________________________________\n",
            "concatenate_1 (Concatenate)     (None, 42, 428)      0           time_distributed_7[0][0]         \n",
            "                                                                 word_input[0][0]                 \n",
            "__________________________________________________________________________________________________\n",
            "bidirectional_1 (Bidirectional) (None, 42, 128)      252416      concatenate_1[0][0]              \n",
            "__________________________________________________________________________________________________\n",
            "time_distributed_8 (TimeDistrib (None, 42, 14)       1806        bidirectional_1[0][0]            \n",
            "__________________________________________________________________________________________________\n",
            "activation_1 (Activation)       (None, 42, 14)       0           time_distributed_8[0][0]         \n",
            "==================================================================================================\n",
            "Total params: 258,902\n",
            "Trainable params: 258,902\n",
            "Non-trainable params: 0\n",
            "__________________________________________________________________________________________________\n"
          ],
          "name": "stdout"
        }
      ]
    },
    {
      "cell_type": "code",
      "metadata": {
        "colab": {
          "base_uri": "https://localhost:8080/"
        },
        "id": "5SwK0uH-wDXz",
        "outputId": "00edaa63-0c01-4d21-f296-089df4b76b7d"
      },
      "source": [
        "# load model vừa train được với dữ liệu trc vào để train tiếp\n",
        "from keras.models import load_model\n",
        "m = load_model(\"/content/drive/MyDrive/model/model-ver1.h5\")\n",
        "# m = load_model(\"/content/drive/MyDrive/CPoint model/mdl-last.h5\")"
      ],
      "execution_count": null,
      "outputs": [
        {
          "output_type": "stream",
          "text": [
            "WARNING:tensorflow:From /usr/local/lib/python3.7/dist-packages/tensorflow_core/python/ops/math_grad.py:1424: where (from tensorflow.python.ops.array_ops) is deprecated and will be removed in a future version.\n",
            "Instructions for updating:\n",
            "Use tf.where in 2.0, which has the same broadcast rule as np.where\n",
            "WARNING:tensorflow:From /usr/local/lib/python3.7/dist-packages/keras/backend/tensorflow_backend.py:1033: The name tf.assign_add is deprecated. Please use tf.compat.v1.assign_add instead.\n",
            "\n",
            "WARNING:tensorflow:From /usr/local/lib/python3.7/dist-packages/keras/backend/tensorflow_backend.py:1020: The name tf.assign is deprecated. Please use tf.compat.v1.assign instead.\n",
            "\n"
          ],
          "name": "stdout"
        }
      ]
    },
    {
      "cell_type": "code",
      "metadata": {
        "id": "t_L0YSZPqDuT",
        "colab": {
          "base_uri": "https://localhost:8080/"
        },
        "outputId": "b1e985cb-5494-4f10-9ac7-9dbdec99b019"
      },
      "source": [
        "import keras\n",
        "\n",
        "cp_callback = keras.callbacks.ModelCheckpoint(filepath='/content/drive/MyDrive/CPoint model/mdl-last.h5', verbose=1, save_best_only=True)\n",
        "es_callback = keras.callbacks.EarlyStopping(monitor='acc', patience=5)\n",
        "\n",
        "character_train, character_test, word_train, word_test, tag_train, tag_test = train_test_split(char_embedd,word,tag, test_size=0.125)\n",
        "\n",
        "# Train the model with the new callback\n",
        "history = m.fit([character_train, word_train], tag_train,  \n",
        "          epochs=8,\n",
        "          batch_size = 64,\n",
        "          validation_data=([character_test, word_test], tag_test),  \n",
        "          callbacks=[cp_callback,es_callback])"
      ],
      "execution_count": null,
      "outputs": [
        {
          "output_type": "stream",
          "text": [
            "Train on 273 samples, validate on 39 samples\n",
            "Epoch 1/8\n",
            "273/273 [==============================] - 5s 18ms/step - loss: 0.0015 - acc: 0.9995 - val_loss: 4.1650e-04 - val_acc: 1.0000\n",
            "\n",
            "Epoch 00001: val_loss improved from inf to 0.00042, saving model to /content/drive/MyDrive/CPoint model/mdl-last.h5\n",
            "Epoch 2/8\n",
            "273/273 [==============================] - 3s 10ms/step - loss: 0.0014 - acc: 0.9997 - val_loss: 4.2633e-04 - val_acc: 1.0000\n",
            "\n",
            "Epoch 00002: val_loss did not improve from 0.00042\n",
            "Epoch 3/8\n",
            "273/273 [==============================] - 3s 10ms/step - loss: 0.0015 - acc: 0.9997 - val_loss: 4.6928e-04 - val_acc: 1.0000\n",
            "\n",
            "Epoch 00003: val_loss did not improve from 0.00042\n",
            "Epoch 4/8\n",
            "273/273 [==============================] - 3s 10ms/step - loss: 7.8659e-04 - acc: 0.9998 - val_loss: 5.5643e-04 - val_acc: 1.0000\n",
            "\n",
            "Epoch 00004: val_loss did not improve from 0.00042\n",
            "Epoch 5/8\n",
            "273/273 [==============================] - 3s 10ms/step - loss: 0.0011 - acc: 0.9998 - val_loss: 4.5595e-04 - val_acc: 1.0000\n",
            "\n",
            "Epoch 00005: val_loss did not improve from 0.00042\n",
            "Epoch 6/8\n",
            "273/273 [==============================] - 3s 10ms/step - loss: 6.7668e-04 - acc: 0.9999 - val_loss: 4.0598e-04 - val_acc: 1.0000\n",
            "\n",
            "Epoch 00006: val_loss improved from 0.00042 to 0.00041, saving model to /content/drive/MyDrive/CPoint model/mdl-last.h5\n",
            "Epoch 7/8\n",
            "273/273 [==============================] - 3s 10ms/step - loss: 8.5531e-04 - acc: 0.9997 - val_loss: 3.7696e-04 - val_acc: 1.0000\n",
            "\n",
            "Epoch 00007: val_loss improved from 0.00041 to 0.00038, saving model to /content/drive/MyDrive/CPoint model/mdl-last.h5\n",
            "Epoch 8/8\n",
            "273/273 [==============================] - 3s 10ms/step - loss: 5.2015e-04 - acc: 1.0000 - val_loss: 3.6489e-04 - val_acc: 1.0000\n",
            "\n",
            "Epoch 00008: val_loss improved from 0.00038 to 0.00036, saving model to /content/drive/MyDrive/CPoint model/mdl-last.h5\n"
          ],
          "name": "stdout"
        }
      ]
    },
    {
      "cell_type": "code",
      "metadata": {
        "id": "d-nuBg0Zlkwl"
      },
      "source": [
        "m.save(\"/content/drive/MyDrive/model/model-ver1.h5\")"
      ],
      "execution_count": null,
      "outputs": []
    },
    {
      "cell_type": "code",
      "metadata": {
        "colab": {
          "base_uri": "https://localhost:8080/",
          "height": 590
        },
        "id": "pNdqnA41Lve7",
        "outputId": "c0fe218b-093c-4e13-d2f9-21ab1ecbc6de"
      },
      "source": [
        "import matplotlib.pyplot as plt\n",
        "# list all data in history\n",
        "print(history.history.keys())\n",
        "# summarize history for accuracy\n",
        "plt.plot(history.history['acc'])\n",
        "plt.plot(history.history['val_acc'])\n",
        "plt.title('model accuracy')\n",
        "plt.ylabel('accuracy')\n",
        "plt.xlabel('epoch')\n",
        "plt.legend(['train', 'test'], loc='upper left')\n",
        "plt.show()\n",
        "# summarize history for loss\n",
        "plt.plot(history.history['loss'])\n",
        "plt.plot(history.history['val_loss'])\n",
        "plt.title('model loss')\n",
        "plt.ylabel('loss')\n",
        "plt.xlabel('epoch')\n",
        "plt.legend(['train', 'test'], loc='upper left')\n",
        "plt.show()"
      ],
      "execution_count": null,
      "outputs": [
        {
          "output_type": "stream",
          "text": [
            "dict_keys(['val_loss', 'val_acc', 'loss', 'acc'])\n"
          ],
          "name": "stdout"
        },
        {
          "output_type": "display_data",
          "data": {
            "image/png": "[encoded data removed]",
            "text/plain": [
              "<Figure size 432x288 with 1 Axes>"
            ]
          },
          "metadata": {
            "tags": [],
            "needs_background": "light"
          }
        },
        {
          "output_type": "display_data",
          "data": {
            "image/png": "[encoded data removed]",
            "text/plain": [
              "<Figure size 432x288 with 1 Axes>"
            ]
          },
          "metadata": {
            "tags": [],
            "needs_background": "light"
          }
        }
      ]
    },
    {
      "cell_type": "code",
      "metadata": {
        "id": "AfMg-pOHij17",
        "colab": {
          "base_uri": "https://localhost:8080/"
        },
        "outputId": "115396a7-b5e6-4345-8ef9-9c90819d844a"
      },
      "source": [
        "# from keras.models import load_model\n",
        "# dependencies = {\n",
        "#     'recall_m': recall_m,\n",
        "#     'precision_m':precision_m,\n",
        "#     'f1_m':f1_m\n",
        "# }\n",
        "# custom_objects=dependencies\n",
        "# m = load_model(\"/content/drive/MyDrive/CPoint model/mdl-last_only_address.h5\",custom_objects=dependencies)\n",
        "# m = load_model(\"/content/drive/MyDrive/CPoint model/mdl-last.h5\")"
      ],
      "execution_count": null,
      "outputs": [
        {
          "output_type": "stream",
          "text": [
            "WARNING:tensorflow:From /usr/local/lib/python3.7/dist-packages/keras/backend/tensorflow_backend.py:541: The name tf.placeholder is deprecated. Please use tf.compat.v1.placeholder instead.\n",
            "\n",
            "WARNING:tensorflow:From /usr/local/lib/python3.7/dist-packages/keras/backend/tensorflow_backend.py:66: The name tf.get_default_graph is deprecated. Please use tf.compat.v1.get_default_graph instead.\n",
            "\n",
            "WARNING:tensorflow:From /usr/local/lib/python3.7/dist-packages/keras/backend/tensorflow_backend.py:4432: The name tf.random_uniform is deprecated. Please use tf.random.uniform instead.\n",
            "\n",
            "WARNING:tensorflow:From /usr/local/lib/python3.7/dist-packages/keras/backend/tensorflow_backend.py:4267: The name tf.nn.max_pool is deprecated. Please use tf.nn.max_pool2d instead.\n",
            "\n",
            "WARNING:tensorflow:From /usr/local/lib/python3.7/dist-packages/keras/backend/tensorflow_backend.py:148: The name tf.placeholder_with_default is deprecated. Please use tf.compat.v1.placeholder_with_default instead.\n",
            "\n",
            "WARNING:tensorflow:From /usr/local/lib/python3.7/dist-packages/keras/backend/tensorflow_backend.py:3733: calling dropout (from tensorflow.python.ops.nn_ops) with keep_prob is deprecated and will be removed in a future version.\n",
            "Instructions for updating:\n",
            "Please use `rate` instead of `keep_prob`. Rate should be set to `rate = 1 - keep_prob`.\n",
            "WARNING:tensorflow:From /usr/local/lib/python3.7/dist-packages/keras/backend/tensorflow_backend.py:190: The name tf.get_default_session is deprecated. Please use tf.compat.v1.get_default_session instead.\n",
            "\n",
            "WARNING:tensorflow:From /usr/local/lib/python3.7/dist-packages/keras/backend/tensorflow_backend.py:197: The name tf.ConfigProto is deprecated. Please use tf.compat.v1.ConfigProto instead.\n",
            "\n",
            "WARNING:tensorflow:From /usr/local/lib/python3.7/dist-packages/keras/backend/tensorflow_backend.py:203: The name tf.Session is deprecated. Please use tf.compat.v1.Session instead.\n",
            "\n",
            "WARNING:tensorflow:From /usr/local/lib/python3.7/dist-packages/keras/backend/tensorflow_backend.py:207: The name tf.global_variables is deprecated. Please use tf.compat.v1.global_variables instead.\n",
            "\n",
            "WARNING:tensorflow:From /usr/local/lib/python3.7/dist-packages/keras/backend/tensorflow_backend.py:216: The name tf.is_variable_initialized is deprecated. Please use tf.compat.v1.is_variable_initialized instead.\n",
            "\n",
            "WARNING:tensorflow:From /usr/local/lib/python3.7/dist-packages/keras/backend/tensorflow_backend.py:223: The name tf.variables_initializer is deprecated. Please use tf.compat.v1.variables_initializer instead.\n",
            "\n",
            "WARNING:tensorflow:From /usr/local/lib/python3.7/dist-packages/keras/optimizers.py:793: The name tf.train.Optimizer is deprecated. Please use tf.compat.v1.train.Optimizer instead.\n",
            "\n",
            "WARNING:tensorflow:From /usr/local/lib/python3.7/dist-packages/keras/backend/tensorflow_backend.py:3576: The name tf.log is deprecated. Please use tf.math.log instead.\n",
            "\n",
            "WARNING:tensorflow:From /usr/local/lib/python3.7/dist-packages/tensorflow_core/python/ops/math_grad.py:1424: where (from tensorflow.python.ops.array_ops) is deprecated and will be removed in a future version.\n",
            "Instructions for updating:\n",
            "Use tf.where in 2.0, which has the same broadcast rule as np.where\n",
            "WARNING:tensorflow:From /usr/local/lib/python3.7/dist-packages/keras/backend/tensorflow_backend.py:1033: The name tf.assign_add is deprecated. Please use tf.compat.v1.assign_add instead.\n",
            "\n",
            "WARNING:tensorflow:From /usr/local/lib/python3.7/dist-packages/keras/backend/tensorflow_backend.py:1020: The name tf.assign is deprecated. Please use tf.compat.v1.assign instead.\n",
            "\n"
          ],
          "name": "stdout"
        }
      ]
    },
    {
      "cell_type": "code",
      "metadata": {
        "id": "0xKIRra9FSWd"
      },
      "source": [
        "# y_pred = m.predict([character_test, word_test])\n",
        "# y_true = tag_test"
      ],
      "execution_count": null,
      "outputs": []
    },
    {
      "cell_type": "code",
      "metadata": {
        "colab": {
          "base_uri": "https://localhost:8080/"
        },
        "id": "kLO-AKKTGA3y",
        "outputId": "088be5aa-43a3-42aa-b042-4c039b573180"
      },
      "source": [
        "# print(y_pred.shape)\n",
        "# print(y_true.shape)"
      ],
      "execution_count": null,
      "outputs": [
        {
          "output_type": "stream",
          "text": [
            "(600, 42, 14)\n",
            "(600, 42, 14)\n"
          ],
          "name": "stdout"
        }
      ]
    },
    {
      "cell_type": "code",
      "metadata": {
        "id": "dTMHHZzmVkca"
      },
      "source": [
        "# from sklearn.metrics import classification_report, confusion_matrix"
      ],
      "execution_count": null,
      "outputs": []
    },
    {
      "cell_type": "code",
      "metadata": {
        "id": "jWuU2fjHVr8O",
        "colab": {
          "base_uri": "https://localhost:8080/"
        },
        "outputId": "5f7efc7e-24ea-4766-9220-3aa5b8103427"
      },
      "source": [
        "# y_pred = y_pred.reshape(y_pred.shape[0]*y_pred.shape[1], y_pred.shape[2])\n",
        "# print(y_pred.shape)\n",
        "# y_pred = np.argmax(y_pred,axis=1)"
      ],
      "execution_count": null,
      "outputs": [
        {
          "output_type": "stream",
          "text": [
            "(25200, 14)\n"
          ],
          "name": "stdout"
        }
      ]
    },
    {
      "cell_type": "code",
      "metadata": {
        "colab": {
          "base_uri": "https://localhost:8080/"
        },
        "id": "gQ_94sRcfjsY",
        "outputId": "d0d4ee04-97b4-4641-ca6f-b72cb7796168"
      },
      "source": [
        "# y_true = y_true.reshape(y_true.shape[0]*y_true.shape[1], y_true.shape[2])\n",
        "# print(y_true.shape)\n",
        "# y_true = np.argmax(y_true,axis=1)\n",
        "# print(y_true.shape)"
      ],
      "execution_count": null,
      "outputs": [
        {
          "output_type": "stream",
          "text": [
            "(25200, 14)\n"
          ],
          "name": "stdout"
        }
      ]
    },
    {
      "cell_type": "code",
      "metadata": {
        "colab": {
          "base_uri": "https://localhost:8080/"
        },
        "id": "CLM1DD-wf3VD",
        "outputId": "ff9caebe-c46b-4a11-b59e-c02c7bdeba2b"
      },
      "source": [
        "# from sklearn.metrics import accuracy_score\n",
        "# acc=0\n",
        "# false=0\n",
        "# for i in range(len(y_true)):\n",
        "#   if y_true[i]!=0:\n",
        "#     if y_true[i]==y_pred[i]:\n",
        "#       acc+=1\n",
        "#     else:\n",
        "#       false+=1\n",
        "# print(acc)\n",
        "# print(false)\n",
        "# print('accuracy = {}'.format(acc/(acc+false)) )"
      ],
      "execution_count": null,
      "outputs": [
        {
          "output_type": "stream",
          "text": [
            "6331\n",
            "35\n",
            "accuracy = 0.9945020420986491\n"
          ],
          "name": "stdout"
        }
      ]
    },
    {
      "cell_type": "code",
      "metadata": {
        "colab": {
          "base_uri": "https://localhost:8080/"
        },
        "id": "MouOTlsniGMT",
        "outputId": "3d501e27-df48-4e79-eaa2-7ec8a67438e2"
      },
      "source": [
        "# dict = []\n",
        "# for element in y_true:\n",
        "#   if element not in dict:\n",
        "#     dict.append(element)\n",
        "# print(dict)"
      ],
      "execution_count": null,
      "outputs": [
        {
          "output_type": "stream",
          "text": [
            "[1, 2, 3, 4, 5, 6, 7, 0]\n"
          ],
          "name": "stdout"
        }
      ]
    },
    {
      "cell_type": "code",
      "metadata": {
        "colab": {
          "base_uri": "https://localhost:8080/"
        },
        "id": "nCBB3zlwhKPw",
        "outputId": "53d6d13a-4c8c-43ce-bcf6-bb8e60e5aa7d"
      },
      "source": [
        "# cnf_matrix = confusion_matrix(y_true, y_pred, labels=dict)\n",
        "# for i in range(len(cnf_matrix)):\n",
        "#   for j in range(len(cnf_matrix)):\n",
        "#     cnf_matrix[i][j] = round(cnf_matrix[i][j], 3)\n",
        "# print(cnf_matrix)"
      ],
      "execution_count": null,
      "outputs": [
        {
          "output_type": "stream",
          "text": [
            "[[  703    24     0     0     0     0     0     0]\n",
            " [   11  2211     0     0     0     0     0     0]\n",
            " [    0     0  1017     0     0     0     0     0]\n",
            " [    0     0     0   600     0     0     0     0]\n",
            " [    0     0     0     0   600     0     0     0]\n",
            " [    0     0     0     0     0   600     0     0]\n",
            " [    0     0     0     0     0     0   600     0]\n",
            " [    0     0     0     0     0     0     0 18834]]\n"
          ],
          "name": "stdout"
        }
      ]
    },
    {
      "cell_type": "code",
      "metadata": {
        "id": "ER-UGVhxhEOq",
        "colab": {
          "base_uri": "https://localhost:8080/"
        },
        "outputId": "d63e9e73-9ac2-45de-81a0-6fc8a1ecfaf1"
      },
      "source": [
        "# normalized_confusion_matrix = cnf_matrix/cnf_matrix.sum(axis = 1, keepdims = True)\n",
        "# for i in range(len(normalized_confusion_matrix)):\n",
        "#   for j in range(len(normalized_confusion_matrix)):\n",
        "#     normalized_confusion_matrix[i][j] = round(normalized_confusion_matrix[i][j], 3)\n",
        "# print(normalized_confusion_matrix)"
      ],
      "execution_count": null,
      "outputs": [
        {
          "output_type": "stream",
          "text": [
            "[[0.967 0.033 0.    0.    0.    0.    0.    0.   ]\n",
            " [0.005 0.995 0.    0.    0.    0.    0.    0.   ]\n",
            " [0.    0.    1.    0.    0.    0.    0.    0.   ]\n",
            " [0.    0.    0.    1.    0.    0.    0.    0.   ]\n",
            " [0.    0.    0.    0.    1.    0.    0.    0.   ]\n",
            " [0.    0.    0.    0.    0.    1.    0.    0.   ]\n",
            " [0.    0.    0.    0.    0.    0.    1.    0.   ]\n",
            " [0.    0.    0.    0.    0.    0.    0.    1.   ]]\n"
          ],
          "name": "stdout"
        }
      ]
    },
    {
      "cell_type": "code",
      "metadata": {
        "colab": {
          "base_uri": "https://localhost:8080/"
        },
        "id": "PELN0yS6gKUD",
        "outputId": "bbf83381-fd36-46fd-f227-43b27cd71736"
      },
      "source": [
        "# arr_to_cal_predict = []\n",
        "# for i in range(len(cnf_matrix)):\n",
        "#   tong= 0\n",
        "#   for j in range(len(cnf_matrix)):\n",
        "#     tong+=cnf_matrix[j][i]\n",
        "#   arr_to_cal_predict.append(tong)\n",
        "# print(arr_to_cal_predict)\n",
        "# # lấy độ predict\n",
        "# predict = []\n",
        "# for i in range(len(cnf_matrix)):\n",
        "#   tong=cnf_matrix[i][i]/arr_to_cal_predict[i]\n",
        "#   predict.append(tong)\n",
        "# print(predict)"
      ],
      "execution_count": null,
      "outputs": [
        {
          "output_type": "stream",
          "text": [
            "[714, 2235, 1017, 600, 600, 600, 600, 18834]\n",
            "[0.9845938375350141, 0.9892617449664429, 1.0, 1.0, 1.0, 1.0, 1.0, 1.0]\n"
          ],
          "name": "stdout"
        }
      ]
    }
  ]
}