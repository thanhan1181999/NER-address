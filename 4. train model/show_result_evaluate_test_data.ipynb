{
  "nbformat": 4,
  "nbformat_minor": 0,
  "metadata": {
    "colab": {
      "name": "show_result_evaluate-test-data.ipynb",
      "provenance": []
    },
    "kernelspec": {
      "name": "python3",
      "display_name": "Python 3"
    },
    "language_info": {
      "name": "python"
    }
  },
  "cells": [
    {
      "cell_type": "code",
      "metadata": {
        "colab": {
          "base_uri": "https://localhost:8080/"
        },
        "id": "FnGSaQ9KJ3fY",
        "outputId": "1ce269c1-e83d-4d56-d1e9-eee0fa94620b"
      },
      "source": [
        "from google.colab import drive\n",
        "drive.mount('/content/drive')"
      ],
      "execution_count": 1,
      "outputs": [
        {
          "output_type": "stream",
          "text": [
            "Mounted at /content/drive\n"
          ],
          "name": "stdout"
        }
      ]
    },
    {
      "cell_type": "code",
      "metadata": {
        "colab": {
          "base_uri": "https://localhost:8080/"
        },
        "id": "sGeTapQQMRzy",
        "outputId": "52f1d9e0-eaba-481c-d1dc-7f0d8d74e06d"
      },
      "source": [
        "# aphabet tag library\n",
        "tags = {'pad': 0, 'LOCATION_HOMENUMBER': 1, 'LOCATION_STREET': 2, 'LOCATION_WARD': 3, 'LOCATION_DISTRICT': 4, 'LOCATION_PROVINCE': 5, 'LOCATION_COUNTRY': 6, 'LOCATION_POSTCODE': 7, 'LOCATION_NER': 8, 'OBJ': 9, 'OBJ_FEATURE': 10, 'PRE': 11, 'UNKNOW': 12 }\n",
        "aphabet_tag = []\n",
        "for key in tags:\n",
        "  aphabet_tag.append(key)\n",
        "# aphabet_tag = ['pad', 'LOCATION_HOMENUMBER', 'LOCATION_STREET', 'LOCATION_WARD', 'LOCATION_DISTRICT', 'LOCATION_PROVINCE', 'LOCATION_COUNTRY', 'LOCATION_POSTCODE', 'OBJ', 'OBJ_FEATURE', 'PRE', 'UNKNOW', 'LOCATION_SPECIAL']\n",
        "print(aphabet_tag)"
      ],
      "execution_count": 2,
      "outputs": [
        {
          "output_type": "stream",
          "text": [
            "['pad', 'LOCATION_HOMENUMBER', 'LOCATION_STREET', 'LOCATION_WARD', 'LOCATION_DISTRICT', 'LOCATION_PROVINCE', 'LOCATION_COUNTRY', 'LOCATION_POSTCODE', 'LOCATION_NER', 'OBJ', 'OBJ_FEATURE', 'PRE', 'UNKNOW']\n"
          ],
          "name": "stdout"
        }
      ]
    },
    {
      "cell_type": "code",
      "metadata": {
        "colab": {
          "base_uri": "https://localhost:8080/"
        },
        "id": "RGy85bRdLn_W",
        "outputId": "01bfe657-8e4a-443b-eff5-17a18ac87085"
      },
      "source": [
        "import numpy as np\n",
        "result_test_data = np.loadtxt(\"/content/drive/MyDrive/model/evaluate/evaluate_test_data.txt\")\n",
        "print(result_test_data.shape)\n",
        "result_test_data = result_test_data.reshape(int(result_test_data.shape[0]/3), 3, result_test_data.shape[1])\n",
        "print(result_test_data.shape)\n",
        "#=====================================================  \n",
        "result_val_data = np.loadtxt(\"/content/drive/MyDrive/model/evaluate/evaluate_val_data.txt\")\n",
        "print(result_val_data.shape)\n",
        "result_val_data = result_val_data.reshape(int(result_val_data.shape[0]/3), 3, result_val_data.shape[1])\n",
        "print(result_val_data.shape)"
      ],
      "execution_count": 3,
      "outputs": [
        {
          "output_type": "stream",
          "text": [
            "(12, 13)\n",
            "(4, 3, 13)\n",
            "(12, 13)\n",
            "(4, 3, 13)\n"
          ],
          "name": "stdout"
        }
      ]
    },
    {
      "cell_type": "code",
      "metadata": {
        "id": "TCGROWsrKBcl"
      },
      "source": [
        "def show_result(result):\n",
        "  num_pre_true ={}\n",
        "  num_pre = {}\n",
        "  num_tag = {}\n",
        "  for tag in aphabet_tag:\n",
        "    num_pre_true[tag]=0\n",
        "    num_pre[tag]=0\n",
        "    num_tag[tag]=0\n",
        "  #======================================================\n",
        "\n",
        "  for i in range(len(result)):\n",
        "    result_x = result[i]\n",
        "    for j in range(len(result_x[0])):\n",
        "      num_pre_true[aphabet_tag[j]] += result_x[0][j]\n",
        "    \n",
        "    for j in range(len(result_x[1])):\n",
        "      num_pre[aphabet_tag[j]] += result_x[1][j]\n",
        "    \n",
        "    for j in range(len(result_x[2])):\n",
        "      num_tag[aphabet_tag[j]] += result_x[2][j]\n",
        "\n",
        "  # print(num_pre_true)\n",
        "  # print(num_pre)\n",
        "  # print(num_tag)\n",
        "\n",
        "  #========================================================\n",
        "  predict = {}\n",
        "  recall = {}\n",
        "  f1 = {}\n",
        "\n",
        "  for tag in num_pre_true:\n",
        "    if tag!=\"pad\" and tag!='UNKNOW':\n",
        "      pre = num_pre_true[tag] / num_pre[tag]\n",
        "      pre = format(pre, '.2f')\n",
        "      predict[tag]= pre\n",
        "\n",
        "  for tag in num_pre_true:\n",
        "    if tag!=\"pad\" and tag!='UNKNOW':\n",
        "      recall_x = num_pre_true[tag] / num_tag[tag]\n",
        "      recall_x = format(recall_x, '.2f')\n",
        "      recall[tag]= recall_x\n",
        "\n",
        "  f1 = {}\n",
        "  for tag in num_pre_true:\n",
        "    if tag!=\"pad\" and tag!='UNKNOW':\n",
        "      p = float(predict[tag])\n",
        "      r = float(recall[tag])\n",
        "      f1[tag] = 2*p*r/(p+r)\n",
        "\n",
        "  print(\"predict:\")\n",
        "  print(predict)\n",
        "  print(\"recall:\")\n",
        "  print(recall)\n",
        "  print(\"f1:\")\n",
        "  print(f1)\n",
        "  print(\"\\n\")"
      ],
      "execution_count": 4,
      "outputs": []
    },
    {
      "cell_type": "code",
      "metadata": {
        "colab": {
          "base_uri": "https://localhost:8080/"
        },
        "id": "vOMvE9FMS14Y",
        "outputId": "b3d1b0d8-c57f-458f-d032-532b6b5018f0"
      },
      "source": [
        "print(\"VAL DATA:\")\n",
        "show_result(result_val_data)\n",
        "\n",
        "print(\"TEST DATA:\")\n",
        "show_result(result_test_data)"
      ],
      "execution_count": 5,
      "outputs": [
        {
          "output_type": "stream",
          "text": [
            "VAL DATA:\n",
            "predict:\n",
            "{'LOCATION_HOMENUMBER': '0.98', 'LOCATION_STREET': '1.00', 'LOCATION_WARD': '0.99', 'LOCATION_DISTRICT': '1.00', 'LOCATION_PROVINCE': '1.00', 'LOCATION_COUNTRY': '1.00', 'LOCATION_POSTCODE': '1.00', 'LOCATION_NER': '1.00', 'OBJ': '1.00', 'OBJ_FEATURE': '1.00', 'PRE': '1.00'}\n",
            "recall:\n",
            "{'LOCATION_HOMENUMBER': '0.99', 'LOCATION_STREET': '0.99', 'LOCATION_WARD': '0.99', 'LOCATION_DISTRICT': '1.00', 'LOCATION_PROVINCE': '1.00', 'LOCATION_COUNTRY': '1.00', 'LOCATION_POSTCODE': '1.00', 'LOCATION_NER': '1.00', 'OBJ': '1.00', 'OBJ_FEATURE': '1.00', 'PRE': '1.00'}\n",
            "f1:\n",
            "{'LOCATION_HOMENUMBER': 0.98497461928934, 'LOCATION_STREET': 0.9949748743718593, 'LOCATION_WARD': 0.99, 'LOCATION_DISTRICT': 1.0, 'LOCATION_PROVINCE': 1.0, 'LOCATION_COUNTRY': 1.0, 'LOCATION_POSTCODE': 1.0, 'LOCATION_NER': 1.0, 'OBJ': 1.0, 'OBJ_FEATURE': 1.0, 'PRE': 1.0}\n",
            "\n",
            "\n",
            "TEST DATA:\n",
            "predict:\n",
            "{'LOCATION_HOMENUMBER': '0.97', 'LOCATION_STREET': '1.00', 'LOCATION_WARD': '0.96', 'LOCATION_DISTRICT': '0.97', 'LOCATION_PROVINCE': '0.97', 'LOCATION_COUNTRY': '0.97', 'LOCATION_POSTCODE': '0.97', 'LOCATION_NER': '1.00', 'OBJ': '1.00', 'OBJ_FEATURE': '1.00', 'PRE': '1.00'}\n",
            "recall:\n",
            "{'LOCATION_HOMENUMBER': '0.99', 'LOCATION_STREET': '0.98', 'LOCATION_WARD': '0.98', 'LOCATION_DISTRICT': '0.97', 'LOCATION_PROVINCE': '0.97', 'LOCATION_COUNTRY': '0.97', 'LOCATION_POSTCODE': '0.97', 'LOCATION_NER': '1.00', 'OBJ': '1.00', 'OBJ_FEATURE': '1.00', 'PRE': '1.00'}\n",
            "f1:\n",
            "{'LOCATION_HOMENUMBER': 0.9798979591836734, 'LOCATION_STREET': 0.98989898989899, 'LOCATION_WARD': 0.9698969072164948, 'LOCATION_DISTRICT': 0.97, 'LOCATION_PROVINCE': 0.97, 'LOCATION_COUNTRY': 0.97, 'LOCATION_POSTCODE': 0.97, 'LOCATION_NER': 1.0, 'OBJ': 1.0, 'OBJ_FEATURE': 1.0, 'PRE': 1.0}\n",
            "\n",
            "\n"
          ],
          "name": "stdout"
        }
      ]
    }
  ]
}